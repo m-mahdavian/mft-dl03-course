{
  "nbformat": 4,
  "nbformat_minor": 0,
  "metadata": {
    "colab": {
      "provenance": []
    },
    "kernelspec": {
      "name": "python3",
      "display_name": "Python 3"
    },
    "language_info": {
      "name": "python"
    }
  },
  "cells": [
    {
      "cell_type": "markdown",
      "source": [
        "# Summary of the assignments\n",
        "<p> Assignment #1: Dataset: catvnoncat - Comparison of conventional ANN with Convolutional NN (CNN)</p>\n",
        "<p> Assignment #2: fashion MNIST - Comparison of conventional ANN with Convolutional NN (CNN)</p>\n",
        "<p> Assignment #3: cifar10 - Comparison of conventional ANN with Convolutional NN (CNN) and implementation of keras tuner </p>\n",
        "<p> Assignment #4: Dataset: cifar10 - Implementation of AlexNet </p>"
      ],
      "metadata": {
        "id": "fDrTLI_J4SM6"
      }
    },
    {
      "cell_type": "markdown",
      "source": [
        "# Assignment #1: Dataset: catvnoncat - Comparison of conventional ANN with Convolutional NN (CNN)"
      ],
      "metadata": {
        "id": "KI7cjYVyEQaa"
      }
    },
    {
      "cell_type": "markdown",
      "source": [
        "# Running with the conventional ANN"
      ],
      "metadata": {
        "id": "76mTsMViMreS"
      }
    },
    {
      "cell_type": "code",
      "source": [
        "# Imports\n",
        "import tensorflow as tf\n",
        "import numpy as np\n",
        "import matplotlib.pyplot as plt\n",
        "import os\n",
        "from sklearn.model_selection import KFold\n",
        "from sklearn.metrics import classification_report\n",
        "from tensorflow.keras.models import Sequential\n",
        "from tensorflow.keras.layers import Input, Dense, Flatten\n",
        "from utils import dataset_loader\n",
        "import pandas as pd\n",
        "\n",
        "# Set seed for reproducibility\n",
        "seed = 1404\n",
        "os.environ['PYTHONHASHSEED'] = str(seed)\n",
        "np.random.seed(seed)\n",
        "tf.random.set_seed(seed)\n",
        "tf.config.experimental.enable_op_determinism()\n",
        "\n",
        "X_train_all,y_train_all,X_test,y_test = dataset_loader('./')\n",
        "\n",
        "X_train,y_train = X_train_all[:-50],y_train_all[:-50]\n",
        "X_valid,y_valid = X_train_all[-50:],y_train_all[-50:]"
      ],
      "metadata": {
        "id": "XI6WZG7MEPij"
      },
      "execution_count": 28,
      "outputs": []
    },
    {
      "cell_type": "code",
      "source": [
        "input_shape=X_train.shape[1:]\n",
        "input_shape"
      ],
      "metadata": {
        "colab": {
          "base_uri": "https://localhost:8080/"
        },
        "id": "0E6DLQ1RFfJj",
        "outputId": "808c3c16-5b36-441b-f99a-24836c8737e7"
      },
      "execution_count": 29,
      "outputs": [
        {
          "output_type": "execute_result",
          "data": {
            "text/plain": [
              "(64, 64, 3)"
            ]
          },
          "metadata": {},
          "execution_count": 29
        }
      ]
    },
    {
      "cell_type": "code",
      "source": [
        "X_train_scaled=X_train/255\n",
        "X_valid_scaled=X_valid/255\n",
        "X_test_scaled=X_test/255"
      ],
      "metadata": {
        "id": "PdlO263YHJ9c"
      },
      "execution_count": 30,
      "outputs": []
    },
    {
      "cell_type": "code",
      "source": [
        "model=Sequential([\n",
        "    Input(shape=input_shape),\n",
        "    Flatten(),\n",
        "    Dense(50,activation='relu'),\n",
        "    Dense(50,activation='relu'),\n",
        "    Dense(1,activation='sigmoid')\n",
        "])"
      ],
      "metadata": {
        "id": "AKzYrUqTHcJr"
      },
      "execution_count": 35,
      "outputs": []
    },
    {
      "cell_type": "code",
      "source": [
        "model.compile(loss='binary_crossentropy',optimizer=\"adam\",metrics=['accuracy'])"
      ],
      "metadata": {
        "id": "kpRmLIj6IqxD"
      },
      "execution_count": 36,
      "outputs": []
    },
    {
      "cell_type": "code",
      "source": [
        "history=model.fit(X_train_scaled,y_train,epochs=10,validation_data=(X_valid_scaled,y_valid))"
      ],
      "metadata": {
        "colab": {
          "base_uri": "https://localhost:8080/"
        },
        "id": "LZJwvNiEJjU7",
        "outputId": "da265ff4-3ac5-4f21-a9ca-517a21acf179"
      },
      "execution_count": 37,
      "outputs": [
        {
          "output_type": "stream",
          "name": "stdout",
          "text": [
            "Epoch 1/10\n",
            "\u001b[1m5/5\u001b[0m \u001b[32m━━━━━━━━━━━━━━━━━━━━\u001b[0m\u001b[37m\u001b[0m \u001b[1m2s\u001b[0m 122ms/step - accuracy: 0.4751 - loss: 1.1338 - val_accuracy: 0.6800 - val_loss: 0.6998\n",
            "Epoch 2/10\n",
            "\u001b[1m5/5\u001b[0m \u001b[32m━━━━━━━━━━━━━━━━━━━━\u001b[0m\u001b[37m\u001b[0m \u001b[1m0s\u001b[0m 47ms/step - accuracy: 0.6225 - loss: 0.6600 - val_accuracy: 0.6400 - val_loss: 0.6687\n",
            "Epoch 3/10\n",
            "\u001b[1m5/5\u001b[0m \u001b[32m━━━━━━━━━━━━━━━━━━━━\u001b[0m\u001b[37m\u001b[0m \u001b[1m0s\u001b[0m 51ms/step - accuracy: 0.7077 - loss: 0.5693 - val_accuracy: 0.6000 - val_loss: 0.6787\n",
            "Epoch 4/10\n",
            "\u001b[1m5/5\u001b[0m \u001b[32m━━━━━━━━━━━━━━━━━━━━\u001b[0m\u001b[37m\u001b[0m \u001b[1m0s\u001b[0m 51ms/step - accuracy: 0.6761 - loss: 0.5638 - val_accuracy: 0.5800 - val_loss: 0.6489\n",
            "Epoch 5/10\n",
            "\u001b[1m5/5\u001b[0m \u001b[32m━━━━━━━━━━━━━━━━━━━━\u001b[0m\u001b[37m\u001b[0m \u001b[1m0s\u001b[0m 49ms/step - accuracy: 0.7120 - loss: 0.5811 - val_accuracy: 0.5200 - val_loss: 0.8077\n",
            "Epoch 6/10\n",
            "\u001b[1m5/5\u001b[0m \u001b[32m━━━━━━━━━━━━━━━━━━━━\u001b[0m\u001b[37m\u001b[0m \u001b[1m0s\u001b[0m 32ms/step - accuracy: 0.6421 - loss: 0.5964 - val_accuracy: 0.6200 - val_loss: 0.6490\n",
            "Epoch 7/10\n",
            "\u001b[1m5/5\u001b[0m \u001b[32m━━━━━━━━━━━━━━━━━━━━\u001b[0m\u001b[37m\u001b[0m \u001b[1m0s\u001b[0m 35ms/step - accuracy: 0.8013 - loss: 0.4922 - val_accuracy: 0.5800 - val_loss: 0.7475\n",
            "Epoch 8/10\n",
            "\u001b[1m5/5\u001b[0m \u001b[32m━━━━━━━━━━━━━━━━━━━━\u001b[0m\u001b[37m\u001b[0m \u001b[1m0s\u001b[0m 28ms/step - accuracy: 0.8013 - loss: 0.4564 - val_accuracy: 0.5600 - val_loss: 0.7881\n",
            "Epoch 9/10\n",
            "\u001b[1m5/5\u001b[0m \u001b[32m━━━━━━━━━━━━━━━━━━━━\u001b[0m\u001b[37m\u001b[0m \u001b[1m0s\u001b[0m 38ms/step - accuracy: 0.7976 - loss: 0.4250 - val_accuracy: 0.6000 - val_loss: 0.7745\n",
            "Epoch 10/10\n",
            "\u001b[1m5/5\u001b[0m \u001b[32m━━━━━━━━━━━━━━━━━━━━\u001b[0m\u001b[37m\u001b[0m \u001b[1m0s\u001b[0m 28ms/step - accuracy: 0.8224 - loss: 0.3898 - val_accuracy: 0.6000 - val_loss: 0.7471\n"
          ]
        }
      ]
    },
    {
      "cell_type": "code",
      "source": [
        "df=pd.DataFrame(history.history)\n",
        "df.plot()"
      ],
      "metadata": {
        "colab": {
          "base_uri": "https://localhost:8080/",
          "height": 447
        },
        "id": "zW4mp94LLVrT",
        "outputId": "8b3add08-459e-4983-e0bc-98acbd741ddd"
      },
      "execution_count": 38,
      "outputs": [
        {
          "output_type": "execute_result",
          "data": {
            "text/plain": [
              "<Axes: >"
            ]
          },
          "metadata": {},
          "execution_count": 38
        },
        {
          "output_type": "display_data",
          "data": {
            "text/plain": [
              "<Figure size 640x480 with 1 Axes>"
            ],
            "image/png": "[encoded data removed]"
          },
          "metadata": {}
        }
      ]
    },
    {
      "cell_type": "code",
      "source": [
        "preds=model.predict(X_test)\n",
        "y_pred=(preds>0.5).astype(int)"
      ],
      "metadata": {
        "colab": {
          "base_uri": "https://localhost:8080/"
        },
        "id": "M4CmhwqkMDNi",
        "outputId": "02250484-1f1a-41d7-c7a8-7d6173147565"
      },
      "execution_count": 41,
      "outputs": [
        {
          "output_type": "stream",
          "name": "stdout",
          "text": [
            "\u001b[1m2/2\u001b[0m \u001b[32m━━━━━━━━━━━━━━━━━━━━\u001b[0m\u001b[37m\u001b[0m \u001b[1m0s\u001b[0m 20ms/step\n"
          ]
        }
      ]
    },
    {
      "cell_type": "code",
      "source": [
        "print(classification_report(y_test,y_pred))"
      ],
      "metadata": {
        "colab": {
          "base_uri": "https://localhost:8080/"
        },
        "id": "O5-NSnMwMaP0",
        "outputId": "a2a8c78c-6e9d-43be-c3ac-2d16d2fa1b13"
      },
      "execution_count": 42,
      "outputs": [
        {
          "output_type": "stream",
          "name": "stdout",
          "text": [
            "              precision    recall  f1-score   support\n",
            "\n",
            "           0       0.48      0.82      0.61        17\n",
            "           1       0.86      0.55      0.67        33\n",
            "\n",
            "    accuracy                           0.64        50\n",
            "   macro avg       0.67      0.68      0.64        50\n",
            "weighted avg       0.73      0.64      0.65        50\n",
            "\n"
          ]
        }
      ]
    },
    {
      "cell_type": "markdown",
      "source": [
        "# Running with the convolutional NN (CNN)"
      ],
      "metadata": {
        "id": "kWYW0YKbM07b"
      }
    },
    {
      "cell_type": "code",
      "source": [
        "from tensorflow.keras.layers import Conv2D,MaxPool2D\n",
        "\n",
        "model = tf.keras.Sequential([\n",
        "    Input(shape=input_shape),\n",
        "    Conv2D(filters=5,kernel_size=(3,3),activation='relu'),\n",
        "    Conv2D(filters=10,kernel_size=(3,3),activation='relu'),\n",
        "    MaxPool2D(pool_size=(2,2)),\n",
        "    Flatten(),\n",
        "    Dense(50,activation='relu'),\n",
        "    Dense(50,activation='relu'),\n",
        "    Dense(1,activation='sigmoid')\n",
        "]\n",
        ")"
      ],
      "metadata": {
        "id": "MQ-n9bPXNHwr"
      },
      "execution_count": 52,
      "outputs": []
    },
    {
      "cell_type": "code",
      "source": [
        "model.compile(loss='binary_crossentropy',optimizer=\"adam\",metrics=['accuracy'])\n",
        "history=model.fit(X_train_scaled,y_train,epochs=8,validation_data=(X_valid_scaled,y_valid))"
      ],
      "metadata": {
        "colab": {
          "base_uri": "https://localhost:8080/"
        },
        "id": "LZa9EQZaNwUE",
        "outputId": "e657bbbd-58cd-4b99-e7d4-19e85995a100"
      },
      "execution_count": 56,
      "outputs": [
        {
          "output_type": "stream",
          "name": "stdout",
          "text": [
            "Epoch 1/8\n",
            "\u001b[1m5/5\u001b[0m \u001b[32m━━━━━━━━━━━━━━━━━━━━\u001b[0m\u001b[37m\u001b[0m \u001b[1m3s\u001b[0m 183ms/step - accuracy: 0.8504 - loss: 0.3107 - val_accuracy: 0.7400 - val_loss: 0.6206\n",
            "Epoch 2/8\n",
            "\u001b[1m5/5\u001b[0m \u001b[32m━━━━━━━━━━━━━━━━━━━━\u001b[0m\u001b[37m\u001b[0m \u001b[1m1s\u001b[0m 126ms/step - accuracy: 0.9252 - loss: 0.1904 - val_accuracy: 0.8000 - val_loss: 0.4770\n",
            "Epoch 3/8\n",
            "\u001b[1m5/5\u001b[0m \u001b[32m━━━━━━━━━━━━━━━━━━━━\u001b[0m\u001b[37m\u001b[0m \u001b[1m1s\u001b[0m 133ms/step - accuracy: 0.9332 - loss: 0.2040 - val_accuracy: 0.7400 - val_loss: 0.6506\n",
            "Epoch 4/8\n",
            "\u001b[1m5/5\u001b[0m \u001b[32m━━━━━━━━━━━━━━━━━━━━\u001b[0m\u001b[37m\u001b[0m \u001b[1m1s\u001b[0m 222ms/step - accuracy: 0.9420 - loss: 0.1706 - val_accuracy: 0.8400 - val_loss: 0.4467\n",
            "Epoch 5/8\n",
            "\u001b[1m5/5\u001b[0m \u001b[32m━━━━━━━━━━━━━━━━━━━━\u001b[0m\u001b[37m\u001b[0m \u001b[1m1s\u001b[0m 232ms/step - accuracy: 0.9420 - loss: 0.1576 - val_accuracy: 0.7600 - val_loss: 0.5019\n",
            "Epoch 6/8\n",
            "\u001b[1m5/5\u001b[0m \u001b[32m━━━━━━━━━━━━━━━━━━━━\u001b[0m\u001b[37m\u001b[0m \u001b[1m1s\u001b[0m 167ms/step - accuracy: 0.9665 - loss: 0.1252 - val_accuracy: 0.7600 - val_loss: 0.5474\n",
            "Epoch 7/8\n",
            "\u001b[1m5/5\u001b[0m \u001b[32m━━━━━━━━━━━━━━━━━━━━\u001b[0m\u001b[37m\u001b[0m \u001b[1m1s\u001b[0m 150ms/step - accuracy: 0.9764 - loss: 0.0978 - val_accuracy: 0.8400 - val_loss: 0.4501\n",
            "Epoch 8/8\n",
            "\u001b[1m5/5\u001b[0m \u001b[32m━━━━━━━━━━━━━━━━━━━━\u001b[0m\u001b[37m\u001b[0m \u001b[1m1s\u001b[0m 133ms/step - accuracy: 0.9720 - loss: 0.0937 - val_accuracy: 0.7400 - val_loss: 0.5678\n"
          ]
        }
      ]
    },
    {
      "cell_type": "code",
      "source": [
        "df=pd.DataFrame(history.history)\n",
        "df.plot()"
      ],
      "metadata": {
        "colab": {
          "base_uri": "https://localhost:8080/",
          "height": 447
        },
        "id": "_zt2jgKRN3v8",
        "outputId": "fd0647c3-c7a9-45d6-9fb6-bf22b7654021"
      },
      "execution_count": 57,
      "outputs": [
        {
          "output_type": "execute_result",
          "data": {
            "text/plain": [
              "<Axes: >"
            ]
          },
          "metadata": {},
          "execution_count": 57
        },
        {
          "output_type": "display_data",
          "data": {
            "text/plain": [
              "<Figure size 640x480 with 1 Axes>"
            ],
            "image/png": "[encoded data removed]"
          },
          "metadata": {}
        }
      ]
    },
    {
      "cell_type": "code",
      "source": [
        "preds=model.predict(X_test)\n",
        "y_pred=(preds>0.5).astype(int)\n",
        "print(classification_report(y_test,y_pred))"
      ],
      "metadata": {
        "colab": {
          "base_uri": "https://localhost:8080/"
        },
        "id": "aM26rfndOA8L",
        "outputId": "5dd0d14c-c2bc-471b-fde8-c2da5dc6203b"
      },
      "execution_count": 58,
      "outputs": [
        {
          "output_type": "stream",
          "name": "stdout",
          "text": [
            "\u001b[1m2/2\u001b[0m \u001b[32m━━━━━━━━━━━━━━━━━━━━\u001b[0m\u001b[37m\u001b[0m \u001b[1m0s\u001b[0m 116ms/step\n",
            "              precision    recall  f1-score   support\n",
            "\n",
            "           0       0.46      1.00      0.63        17\n",
            "           1       1.00      0.39      0.57        33\n",
            "\n",
            "    accuracy                           0.60        50\n",
            "   macro avg       0.73      0.70      0.60        50\n",
            "weighted avg       0.82      0.60      0.59        50\n",
            "\n"
          ]
        }
      ]
    },
    {
      "cell_type": "markdown",
      "source": [
        "# Assignment #2: fashion MNIST - Comparison of conventional ANN with Convolutional NN (CNN)"
      ],
      "metadata": {
        "id": "AQBbM6ZYQzoc"
      }
    },
    {
      "cell_type": "markdown",
      "source": [
        "# Running with the conventional ANN"
      ],
      "metadata": {
        "id": "5u3gT4bAR5IV"
      }
    },
    {
      "cell_type": "code",
      "source": [],
      "metadata": {
        "id": "N8LgmPGCRcLc"
      },
      "execution_count": null,
      "outputs": []
    },
    {
      "cell_type": "markdown",
      "source": [
        "# Running with the convolutional NN (CNN)"
      ],
      "metadata": {
        "id": "I9UXVchTSFU7"
      }
    },
    {
      "cell_type": "code",
      "source": [],
      "metadata": {
        "id": "81XSO_sbSHKs"
      },
      "execution_count": null,
      "outputs": []
    },
    {
      "cell_type": "markdown",
      "source": [
        "# Assignment #3: cifar10 - Comparison of conventional ANN with Convolutional NN (CNN) and implementation of keras tuner"
      ],
      "metadata": {
        "id": "-sviAKtGRfmU"
      }
    },
    {
      "cell_type": "markdown",
      "source": [
        "# Running with the conventional ANN"
      ],
      "metadata": {
        "id": "yhAj0F-USIl7"
      }
    },
    {
      "cell_type": "code",
      "source": [],
      "metadata": {
        "id": "53x7_cheRkIc"
      },
      "execution_count": null,
      "outputs": []
    },
    {
      "cell_type": "markdown",
      "source": [
        "# Running with the convolutional NN (CNN)"
      ],
      "metadata": {
        "id": "fqTBUK65SJq0"
      }
    },
    {
      "cell_type": "code",
      "source": [],
      "metadata": {
        "id": "U_7FnV0uSPIz"
      },
      "execution_count": null,
      "outputs": []
    },
    {
      "cell_type": "markdown",
      "source": [
        "# Assignment #4: Dataset: cifar10 - Implementation of AlexNet"
      ],
      "metadata": {
        "id": "MdKYKEeiRkw8"
      }
    },
    {
      "cell_type": "code",
      "source": [],
      "metadata": {
        "id": "2ekxRmgBRnsE"
      },
      "execution_count": null,
      "outputs": []
    }
  ]
}